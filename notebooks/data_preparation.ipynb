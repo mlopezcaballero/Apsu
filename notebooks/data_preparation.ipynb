{
 "cells": [
  {
   "cell_type": "markdown",
   "metadata": {},
   "source": [
    "# Data preparation/exploration for the Aguathon"
   ]
  },
  {
   "cell_type": "markdown",
   "metadata": {},
   "source": [
    "## Problem definition\n",
    "\n",
    "Find the best model that predict the level of the Evro river when cros Zaragoza.\n",
    "\n",
    "----"
   ]
  },
  {
   "cell_type": "markdown",
   "metadata": {},
   "source": [
    "## Index\n",
    "\n",
    "1. [Import modules and Data](#first-bullet)\n",
    "2. [Missing Values](#second-bullet)\n",
    "3. [Feature engineering](#third-bullet)\n",
    "    * Split the data in train and test set\n",
    "4. [Random forest regressor](#forth-bullet)\n",
    "    * Cross-validation"
   ]
  },
  {
   "cell_type": "markdown",
   "metadata": {},
   "source": [
    "## Import modules and Data <a class=\"anchor\" id=\"first-bullet\"></a>"
   ]
  },
  {
   "cell_type": "code",
   "execution_count": 1,
   "metadata": {
    "collapsed": false
   },
   "outputs": [
    {
     "name": "stdout",
     "output_type": "stream",
     "text": [
      "/Users/miloc/Documents/git-hub/Apsu\n"
     ]
    },
    {
     "data": {
      "text/html": [
       "<div>\n",
       "<table border=\"1\" class=\"dataframe\">\n",
       "  <thead>\n",
       "    <tr style=\"text-align: right;\">\n",
       "      <th></th>\n",
       "      <th>time</th>\n",
       "      <th>ALAGON_NR</th>\n",
       "      <th>GRISEN_NR</th>\n",
       "      <th>NOVILLAS_NR</th>\n",
       "      <th>TAUSTE_NR</th>\n",
       "      <th>TUDELA_NR</th>\n",
       "      <th>ZGZ_NR</th>\n",
       "      <th>RIESGO</th>\n",
       "      <th>pred_24h</th>\n",
       "      <th>pred_48h</th>\n",
       "      <th>pred_72h</th>\n",
       "    </tr>\n",
       "  </thead>\n",
       "  <tbody>\n",
       "    <tr>\n",
       "      <th>0</th>\n",
       "      <td>2008-01-01 00:00:00</td>\n",
       "      <td>0.8100</td>\n",
       "      <td>0.4375</td>\n",
       "      <td>1.6000</td>\n",
       "      <td>0.2675</td>\n",
       "      <td>0.7875</td>\n",
       "      <td>0.74</td>\n",
       "      <td>False</td>\n",
       "      <td>0.750</td>\n",
       "      <td>0.7400</td>\n",
       "      <td>0.76</td>\n",
       "    </tr>\n",
       "    <tr>\n",
       "      <th>1</th>\n",
       "      <td>2008-01-01 01:00:00</td>\n",
       "      <td>0.8100</td>\n",
       "      <td>0.4725</td>\n",
       "      <td>1.6075</td>\n",
       "      <td>0.2650</td>\n",
       "      <td>0.7900</td>\n",
       "      <td>0.74</td>\n",
       "      <td>False</td>\n",
       "      <td>0.745</td>\n",
       "      <td>0.7325</td>\n",
       "      <td>0.76</td>\n",
       "    </tr>\n",
       "    <tr>\n",
       "      <th>2</th>\n",
       "      <td>2008-01-01 02:00:00</td>\n",
       "      <td>0.8100</td>\n",
       "      <td>0.5425</td>\n",
       "      <td>1.6100</td>\n",
       "      <td>0.2675</td>\n",
       "      <td>0.7900</td>\n",
       "      <td>0.74</td>\n",
       "      <td>False</td>\n",
       "      <td>0.740</td>\n",
       "      <td>0.7300</td>\n",
       "      <td>0.76</td>\n",
       "    </tr>\n",
       "    <tr>\n",
       "      <th>3</th>\n",
       "      <td>2008-01-01 03:00:00</td>\n",
       "      <td>0.8075</td>\n",
       "      <td>0.5500</td>\n",
       "      <td>1.6100</td>\n",
       "      <td>0.2600</td>\n",
       "      <td>0.7900</td>\n",
       "      <td>0.74</td>\n",
       "      <td>False</td>\n",
       "      <td>0.740</td>\n",
       "      <td>0.7200</td>\n",
       "      <td>0.76</td>\n",
       "    </tr>\n",
       "    <tr>\n",
       "      <th>4</th>\n",
       "      <td>2008-01-01 04:00:00</td>\n",
       "      <td>0.8000</td>\n",
       "      <td>0.5525</td>\n",
       "      <td>1.6025</td>\n",
       "      <td>0.2650</td>\n",
       "      <td>0.7900</td>\n",
       "      <td>0.74</td>\n",
       "      <td>False</td>\n",
       "      <td>0.740</td>\n",
       "      <td>0.7200</td>\n",
       "      <td>0.76</td>\n",
       "    </tr>\n",
       "  </tbody>\n",
       "</table>\n",
       "</div>"
      ],
      "text/plain": [
       "                  time  ALAGON_NR  GRISEN_NR  NOVILLAS_NR  TAUSTE_NR  \\\n",
       "0  2008-01-01 00:00:00     0.8100     0.4375       1.6000     0.2675   \n",
       "1  2008-01-01 01:00:00     0.8100     0.4725       1.6075     0.2650   \n",
       "2  2008-01-01 02:00:00     0.8100     0.5425       1.6100     0.2675   \n",
       "3  2008-01-01 03:00:00     0.8075     0.5500       1.6100     0.2600   \n",
       "4  2008-01-01 04:00:00     0.8000     0.5525       1.6025     0.2650   \n",
       "\n",
       "   TUDELA_NR  ZGZ_NR RIESGO  pred_24h  pred_48h  pred_72h  \n",
       "0     0.7875    0.74  False     0.750    0.7400      0.76  \n",
       "1     0.7900    0.74  False     0.745    0.7325      0.76  \n",
       "2     0.7900    0.74  False     0.740    0.7300      0.76  \n",
       "3     0.7900    0.74  False     0.740    0.7200      0.76  \n",
       "4     0.7900    0.74  False     0.740    0.7200      0.76  "
      ]
     },
     "execution_count": 1,
     "metadata": {},
     "output_type": "execute_result"
    }
   ],
   "source": [
    "%load_ext autoreload\n",
    "%matplotlib inline\n",
    "%autoreload 1\n",
    "\n",
    "\n",
    "from __future__ import print_function\n",
    "\n",
    "# STD lib imports\n",
    "import os\n",
    "import sys\n",
    "\n",
    "# Third party libs\n",
    "import numpy as np\n",
    "import pandas as pd\n",
    "import matplotlib.pyplot as plt\n",
    "\n",
    "# sklear stuff\n",
    "from sklearn.model_selection import train_test_split\n",
    "\n",
    "# root path of the project\n",
    "PROJ_ROOT = os.path.join(os.pardir)\n",
    "\n",
    "# add the 'src' directory as one where we can import modules\n",
    "src_dir = os.path.join(PROJ_ROOT, 'src')\n",
    "sys.path.append(src_dir)\n",
    "\n",
    "# import my method from the source code\n",
    "%aimport data.make_dataset\n",
    "import data.make_dataset as md\n",
    "\n",
    "print(os.path.abspath(PROJ_ROOT))\n",
    "\n",
    "raw_file = 'datos.csv'\n",
    "path = '../ENTRADA/'\n",
    "\n",
    "raw_data = pd.read_csv(os.path.join(path, raw_file))\n",
    "raw_data.head()"
   ]
  },
  {
   "cell_type": "markdown",
   "metadata": {
    "collapsed": true
   },
   "source": [
    "## Missing Values <a class=\"anchor\" id=\"second-bullet\"></a>"
   ]
  },
  {
   "cell_type": "code",
   "execution_count": 2,
   "metadata": {
    "collapsed": false
   },
   "outputs": [
    {
     "data": {
      "text/plain": [
       "time           False\n",
       "ALAGON_NR       True\n",
       "GRISEN_NR       True\n",
       "NOVILLAS_NR     True\n",
       "TAUSTE_NR       True\n",
       "TUDELA_NR       True\n",
       "ZGZ_NR         False\n",
       "RIESGO         False\n",
       "pred_24h       False\n",
       "pred_48h       False\n",
       "pred_72h       False\n",
       "dtype: bool"
      ]
     },
     "execution_count": 2,
     "metadata": {},
     "output_type": "execute_result"
    }
   ],
   "source": [
    "# List the columns that contain missing values\n",
    "raw_data.isnull().any()"
   ]
  },
  {
   "cell_type": "code",
   "execution_count": 3,
   "metadata": {
    "collapsed": false
   },
   "outputs": [
    {
     "data": {
      "text/plain": [
       "time           False\n",
       "ALAGON_NR      False\n",
       "GRISEN_NR      False\n",
       "NOVILLAS_NR    False\n",
       "TAUSTE_NR      False\n",
       "TUDELA_NR      False\n",
       "ZGZ_NR         False\n",
       "RIESGO         False\n",
       "pred_24h       False\n",
       "pred_48h       False\n",
       "pred_72h       False\n",
       "dtype: bool"
      ]
     },
     "execution_count": 3,
     "metadata": {},
     "output_type": "execute_result"
    }
   ],
   "source": [
    "# Most simple thing, remove missing values\n",
    "data_s1 = raw_data.dropna()\n",
    "data_s1.isnull().any()"
   ]
  },
  {
   "cell_type": "markdown",
   "metadata": {
    "collapsed": true
   },
   "source": [
    "## Feature engineering <a class=\"anchor\" id=\"third-bullet\"></a>"
   ]
  },
  {
   "cell_type": "code",
   "execution_count": 4,
   "metadata": {
    "collapsed": false
   },
   "outputs": [],
   "source": [
    "# No feature engineering\n",
    "columns_x = ['ALAGON_NR', 'GRISEN_NR', 'NOVILLAS_NR', 'TAUSTE_NR', 'TUDELA_NR', 'ZGZ_NR', 'RIESGO']\n",
    "columns_y = ['pred_24h', 'pred_48h', 'pred_72h']\n",
    "X = data_s1[columns_x]\n",
    "Y = data_s1[columns_y[0]]"
   ]
  },
  {
   "cell_type": "markdown",
   "metadata": {},
   "source": [
    "### Split the data in train and test set"
   ]
  },
  {
   "cell_type": "code",
   "execution_count": 5,
   "metadata": {
    "collapsed": true
   },
   "outputs": [],
   "source": [
    "x_train, x_test, y_train, y_test = train_test_split(X, Y, test_size = 0.3, random_state = 0)"
   ]
  },
  {
   "cell_type": "markdown",
   "metadata": {},
   "source": [
    "## Random forest regressor <a class=\"anchor\" id=\"forth-bullet\"></a>"
   ]
  },
  {
   "cell_type": "code",
   "execution_count": 6,
   "metadata": {
    "collapsed": false
   },
   "outputs": [
    {
     "data": {
      "text/plain": [
       "RandomForestRegressor(bootstrap=True, criterion='mse', max_depth=2,\n",
       "           max_features='auto', max_leaf_nodes=None,\n",
       "           min_impurity_split=1e-07, min_samples_leaf=1,\n",
       "           min_samples_split=2, min_weight_fraction_leaf=0.0,\n",
       "           n_estimators=100, n_jobs=1, oob_score=False, random_state=0,\n",
       "           verbose=0, warm_start=False)"
      ]
     },
     "execution_count": 6,
     "metadata": {},
     "output_type": "execute_result"
    }
   ],
   "source": [
    "from sklearn.ensemble import RandomForestRegressor\n",
    "\n",
    "rf_regressor = RandomForestRegressor(max_depth=2, \n",
    "                             random_state=0,\n",
    "                             n_estimators=100)\n",
    "\n",
    "rf_regressor.fit(x_train, y_train)"
   ]
  },
  {
   "cell_type": "code",
   "execution_count": 7,
   "metadata": {
    "collapsed": false
   },
   "outputs": [
    {
     "name": "stdout",
     "output_type": "stream",
     "text": [
      "r2_score = 0.91\n"
     ]
    }
   ],
   "source": [
    "print('r2_score = %0.2f' % rf_regressor.score(x_test, y_test))"
   ]
  },
  {
   "cell_type": "markdown",
   "metadata": {},
   "source": [
    "### Cross-validation"
   ]
  },
  {
   "cell_type": "code",
   "execution_count": 8,
   "metadata": {
    "collapsed": false
   },
   "outputs": [
    {
     "name": "stdout",
     "output_type": "stream",
     "text": [
      "Accuracy: 0.90 (+/- 0.04)\n"
     ]
    }
   ],
   "source": [
    "from sklearn.model_selection import cross_val_score\n",
    "\n",
    "scores = cross_val_score(rf_regressor, X, Y, scoring='r2', cv=5)\n",
    "\n",
    "print('Accuracy: %0.2f (+/- %0.2f)' % (scores.mean(), scores.std() * 2))"
   ]
  },
  {
   "cell_type": "code",
   "execution_count": null,
   "metadata": {
    "collapsed": true
   },
   "outputs": [],
   "source": []
  }
 ],
 "metadata": {
  "kernelspec": {
   "display_name": "Python 3",
   "language": "python",
   "name": "python3"
  },
  "language_info": {
   "codemirror_mode": {
    "name": "ipython",
    "version": 3
   },
   "file_extension": ".py",
   "mimetype": "text/x-python",
   "name": "python",
   "nbconvert_exporter": "python",
   "pygments_lexer": "ipython3",
   "version": "3.6.0"
  }
 },
 "nbformat": 4,
 "nbformat_minor": 2
}
