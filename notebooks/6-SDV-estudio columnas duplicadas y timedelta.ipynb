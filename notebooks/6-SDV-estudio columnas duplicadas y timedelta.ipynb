{
 "cells": [
  {
   "cell_type": "markdown",
   "metadata": {},
   "source": [
    "## AGUATHON ITA"
   ]
  },
  {
   "cell_type": "markdown",
   "metadata": {},
   "source": [
    "#### Resumen 5\n",
    "\n",
    "Estudio sobre la influencia en R2 de columnas adicionales de rios desfasadas en tiempo diferentes deltas. En este script se simplifica el codigo para automatizar la generacion de resultados. No se trata de un script final optimizado, sino simplificado para analizar la influencia de cada variable.\n",
    "\n",
    "Se usa la funcion df.shift(period = delat) para desfasar la serie temporal de cada rio. Se prueban diferentes deltas de desfase para determinar cual de ellos provoca el mayor incremento de R2."
   ]
  },
  {
   "cell_type": "code",
   "execution_count": 1,
   "metadata": {},
   "outputs": [],
   "source": [
    "import os\n",
    "import scipy\n",
    "import numpy as np\n",
    "import matplotlib as mpl\n",
    "import seaborn as sns\n",
    "import pandas as pd\n",
    "import sklearn\n",
    "import matplotlib.pyplot as plt\n",
    "import datetime as dt\n",
    "\n",
    "from sklearn.model_selection import KFold\n",
    "from sklearn.model_selection import cross_val_score\n",
    "from sklearn.linear_model import LinearRegression"
   ]
  },
  {
   "cell_type": "markdown",
   "metadata": {},
   "source": [
    "## Fun"
   ]
  },
  {
   "cell_type": "code",
   "execution_count": 2,
   "metadata": {},
   "outputs": [],
   "source": [
    "def load_rios():\n",
    "    ''' \n",
    "    Load CSV using Pandas saved in current working directory\n",
    "    '''\n",
    "    cwd = os.getcwd()\n",
    "    in_path = os.path.join(cwd,'data','ENTRADA')\n",
    "    in_file = 'datos.csv'\n",
    "    filename  = os.path.join(in_path,in_file)\n",
    "    data = pd.read_csv(filename, parse_dates = ['time'], index_col = 'time') #, names=names)\n",
    "    return data\n",
    "\n",
    "def load_meteo(csvfile, cols):\n",
    "    ''' \n",
    "    Load CSV using Pandas saved in current working directory\n",
    "    '''\n",
    "    cwd = os.getcwd()\n",
    "    in_path = os.path.join(cwd, 'data', 'DatosPorEstacion')\n",
    "    in_file = csvfile + '.csv'\n",
    "    filename  = os.path.join(in_path,in_file)\n",
    "    data = pd.read_csv(filename,sep=\";\", usecols = cols,\n",
    "                       parse_dates = ['FECHA'], index_col='FECHA')\n",
    "    return data\n",
    "\n",
    "\n",
    "def column_shift(df, dup_cols, N, delta ): \n",
    "    '''\n",
    "    Deriving new features by shifting columns by a given timedelta. That is, each time series \n",
    "    is shifted back N*delta, N*2*delta, N*3*delta, where N is number of columns and delta\n",
    "    time shift periods.\n",
    "    '''    \n",
    "    dfs = df.copy()\n",
    "    for col in dup_cols:\n",
    "        for i in range (1,N+1):\n",
    "            colname = col + \"_\" + str(i*delta)\n",
    "            dfs[colname] = dfs[col].shift(periods = i*delta)\n",
    "    return dfs \n"
   ]
  },
  {
   "cell_type": "code",
   "execution_count": 38,
   "metadata": {
    "scrolled": false
   },
   "outputs": [
    {
     "data": {
      "text/html": [
       "<div>\n",
       "<style scoped>\n",
       "    .dataframe tbody tr th:only-of-type {\n",
       "        vertical-align: middle;\n",
       "    }\n",
       "\n",
       "    .dataframe tbody tr th {\n",
       "        vertical-align: top;\n",
       "    }\n",
       "\n",
       "    .dataframe thead th {\n",
       "        text-align: right;\n",
       "    }\n",
       "</style>\n",
       "<table border=\"1\" class=\"dataframe\">\n",
       "  <thead>\n",
       "    <tr style=\"text-align: right;\">\n",
       "      <th></th>\n",
       "      <th>N</th>\n",
       "      <th>delta</th>\n",
       "      <th>mn</th>\n",
       "      <th>sd</th>\n",
       "    </tr>\n",
       "  </thead>\n",
       "  <tbody>\n",
       "    <tr>\n",
       "      <th>0</th>\n",
       "      <td>1</td>\n",
       "      <td>1</td>\n",
       "      <td>81.727495</td>\n",
       "      <td>9.31665</td>\n",
       "    </tr>\n",
       "  </tbody>\n",
       "</table>\n",
       "</div>"
      ],
      "text/plain": [
       "   N  delta         mn       sd\n",
       "0  1      1  81.727495  9.31665"
      ]
     },
     "execution_count": 38,
     "metadata": {},
     "output_type": "execute_result"
    }
   ],
   "source": [
    "############################################################## \n",
    "##     DATA LOADING\n",
    "##############################################################\n",
    "\n",
    "### RIOS\n",
    "df_rios = load_rios()\n",
    "df_rios.columns = ['Ala','Gri','Nov','Tau','Tud','Zar','Risk','P24','P48','P72']\n",
    "start = df_rios.index[0]\n",
    "end = df_rios.index[-1]\n",
    "\n",
    "### Estaciones\n",
    "estaciones = {'pa1':'9262-19530901-20190131',   # pna\n",
    "              'pa2':'9263D-19750101-20190302',  # pna Aerop\n",
    "              'za1':'9434-19410101-20190302',   # zar Aerop\n",
    "              'za2':'9244X-19920204-20190302',  # zar Sos rey \n",
    "              'hu1':'9208E-20060201-20190302',  # huesca aragues\n",
    "              'hu2':'9201K-19920101-20190302',  # huesca jaca\n",
    "              'log':'9170-19481101-20190302',   # Logroño\n",
    "              'cal':'9394X-19930401-20190302',  # Calatayud\n",
    "             }\n",
    "\n",
    "locations = ['pa1', 'pa2', 'za1', 'za2', 'log', 'cal', 'hu1', 'hu2']\n",
    "\n",
    "### TEMP\n",
    "cols = ['FECHA','TMEDIA']\n",
    "dframes = []\n",
    "for k,v in estaciones.items():\n",
    "    if k in locations:\n",
    "        df = load_meteo(v, cols)\n",
    "        df = df.resample('H').ffill()\n",
    "        df = df[start:end]\n",
    "        df.columns = ['Tm_'+k]\n",
    "        dframes.append(df)\n",
    "df_temp = pd.concat(dframes, axis=1)\n",
    "\n",
    "\n",
    "locations = ['pa1', 'pa2', 'hu1', 'hu2', 'log'] # mejores para lluvia\n",
    "\n",
    "### RAIN\n",
    "cols = ['FECHA','PRECIPITACION']\n",
    "dframes = []\n",
    "for k,v in estaciones.items():\n",
    "    if k in locations:    \n",
    "        df = load_meteo(v, cols)\n",
    "        df = df.resample('H').ffill()\n",
    "        df = df[start:end]\n",
    "        df.columns = ['rain_'+ k] \n",
    "        dframes.append(df)\n",
    "df_rain = pd.concat(dframes, axis=1)\n",
    "\n",
    "\n",
    "locations = ['pa2', 'za1', 'log'] # solo estas tienen datos de presion\n",
    "    \n",
    "### PRESION\n",
    "cols = ['FECHA','PRESMAX', 'PRESMIN']\n",
    "dframes = []\n",
    "for k,v in estaciones.items():\n",
    "    # load selected locations only \n",
    "    if k in locations:\n",
    "        #  Read csv into a DataFrame: df\n",
    "        df = load_meteo(v, cols)\n",
    "        df = df.resample('H').ffill()\n",
    "        df = df[start:end]        \n",
    "        df.columns = ['Pmax_'+ k, 'Pmin_'+ k] \n",
    "        dframes.append(df)\n",
    "df_pres = pd.concat(dframes, axis=1)\n",
    "\n",
    "\n",
    "\n",
    "####################################################################### \n",
    "######     DATA PREPARATION\n",
    "######################################################################\n",
    "\n",
    "\n",
    "#### RAIN DATA\n",
    "df_rain.fillna(value = 0,inplace=True) \n",
    "# replace string values defined by AEMET\n",
    "df_rain.replace(to_replace =['Ip','Acum','Varias'] , value =0 , inplace = True)\n",
    "#convert Text columns to numeric\n",
    "for col in df_rain.columns:\n",
    "    df_rain[col] = pd.to_numeric(df_rain[col], errors='coerce')\n",
    "\n",
    "\n",
    "#### TEMP DATA\n",
    "df_temp.fillna(method = 'ffill',inplace=True) \n",
    "df_temp.fillna(method = 'bfill',inplace=True)\n",
    "\n",
    "#### PRES DATA\n",
    "df_pres.fillna(method = 'ffill',inplace=True) \n",
    "df_pres.fillna(method = 'bfill',inplace=True)\n",
    "\n",
    "### SELECT RIOS DATA\n",
    "target = 'P72'\n",
    "# selected features\n",
    "cols = ['Ala','Tud','Nov','Zar']#,'Gri']\n",
    "cols.append(target)\n",
    "df_rios = df_rios[cols]\n",
    "\n",
    "### RIOS + LLUVIA + PRES (TEMP eliminada porque no ayuda)\n",
    "#df = pd.concat([df_rios, df_rain, df_pres], axis=1)\n",
    "#df = df_rios\n",
    "df = pd.concat([df_rios, df_rain], axis=1)\n",
    "\n",
    "\n",
    "dup = 1     # time shift columns? \n",
    "N = 1       # number of derived columns per feature\n",
    "delta = 1   # time delta in hr\n",
    "dup_cols = ['Tud']#, 'Tud', 'Zar']\n",
    "\n",
    "\n",
    "rows = []\n",
    "for N in range(1,N+1):\n",
    "    for delta in range(1,delta+1):\n",
    "        if dup:\n",
    "            dfs = column_shift(df, dup_cols, N, delta)\n",
    "        else:\n",
    "            dfs = df.copy()\n",
    "            \n",
    "        dfs.dropna(axis=0, how='any', inplace=True)\n",
    "\n",
    "        ############################################################### \n",
    "        ########       ML SPLIT AND REGRESSION\n",
    "        ###############################################################\n",
    "\n",
    "\n",
    "        features = [x for x in dfs.columns if x != target]\n",
    "        Y = dfs[target]\n",
    "        X = dfs.loc[:,features]\n",
    "\n",
    "\n",
    "        kfold = KFold(n_splits=10, random_state=0)\n",
    "        model = LinearRegression()\n",
    "        scoring = 'r2'\n",
    "        results = cross_val_score(model, X, Y, cv=kfold, scoring=scoring)\n",
    "        mn = results.mean()*100.0\n",
    "        sd = results.std()*100.0\n",
    "        #print(\"N:{}, dt:{}, Accuracy: {:.3f}% ({:.3f}%)\".format(N, delta, mn, sd))\n",
    "            \n",
    "        row = {'N':N, 'delta':delta, 'mn':mn, 'sd':sd}     \n",
    "        rows.append(row)\n",
    "        \n",
    "dfres = pd.DataFrame(rows)\n",
    "dfres"
   ]
  },
  {
   "cell_type": "code",
   "execution_count": 27,
   "metadata": {},
   "outputs": [
    {
     "data": {
      "text/plain": [
       "N          1.000000\n",
       "delta    145.000000\n",
       "mn        81.952306\n",
       "sd         8.353099\n",
       "Name: 144, dtype: float64"
      ]
     },
     "execution_count": 27,
     "metadata": {},
     "output_type": "execute_result"
    }
   ],
   "source": [
    "idx = dfres['mn'].idxmax()\n",
    "dfres.iloc[idx]"
   ]
  },
  {
   "cell_type": "code",
   "execution_count": 28,
   "metadata": {},
   "outputs": [
    {
     "data": {
      "image/png": "[encoded data removed]",
      "text/plain": [
       "<Figure size 576x360 with 1 Axes>"
      ]
     },
     "metadata": {
      "needs_background": "light"
     },
     "output_type": "display_data"
    }
   ],
   "source": [
    "# Zaragoza, Max @ -145 hrs\n",
    "fig, (ax1) = plt.subplots(1, 1, sharex=True, \n",
    "                                sharey=False,\n",
    "                                figsize=(8,5))\n",
    "dfres['mn'].plot( ax=ax1);"
   ]
  },
  {
   "cell_type": "code",
   "execution_count": 19,
   "metadata": {},
   "outputs": [
    {
     "data": {
      "image/png": "[encoded data removed]",
      "text/plain": [
       "<Figure size 576x360 with 1 Axes>"
      ]
     },
     "metadata": {
      "needs_background": "light"
     },
     "output_type": "display_data"
    }
   ],
   "source": [
    "# Alagon, Max @ -144hrs\n",
    "fig, (ax1) = plt.subplots(1, 1, sharex=True, \n",
    "                                sharey=False,\n",
    "                                figsize=(8,5))\n",
    "dfres['mn'].plot( ax=ax1);"
   ]
  },
  {
   "cell_type": "code",
   "execution_count": 16,
   "metadata": {},
   "outputs": [
    {
     "data": {
      "image/png": "[encoded data removed]",
      "text/plain": [
       "<Figure size 576x360 with 1 Axes>"
      ]
     },
     "metadata": {
      "needs_background": "light"
     },
     "output_type": "display_data"
    }
   ],
   "source": [
    "# Tudela, Max @ -7hrs\n",
    "fig, (ax1) = plt.subplots(1, 1, sharex=True, \n",
    "                                sharey=False,\n",
    "                                figsize=(8,5))\n",
    "dfres['mn'].plot( ax=ax1);"
   ]
  },
  {
   "cell_type": "code",
   "execution_count": 25,
   "metadata": {},
   "outputs": [
    {
     "data": {
      "image/png": "[encoded data removed]",
      "text/plain": [
       "<Figure size 576x360 with 1 Axes>"
      ]
     },
     "metadata": {
      "needs_background": "light"
     },
     "output_type": "display_data"
    }
   ],
   "source": [
    "# NOVILLAS, Max @ -9hrs\n",
    "fig, (ax1) = plt.subplots(1, 1, sharex=True, \n",
    "                                sharey=False,\n",
    "                                figsize=(8,5))\n",
    "dfres['mn'].plot( ax=ax1);"
   ]
  },
  {
   "cell_type": "markdown",
   "metadata": {},
   "source": [
    "### Estudio Sensibilidad Variables\n",
    "```\n",
    "Rios\n",
    "* 71.393% (14.716%) Ala,Tud,Nov,Zar    <= (1)\n",
    "\n",
    "Rios + Lluvia por estacion\n",
    "\n",
    "* 80.744% (9.111%)  (1) + pa1 + pa2 + hu1 + hu2 + log\n",
    "\n",
    "Duplicado de columna:\n",
    "\n",
    "* Ala, h = 144, Max = 81.443% (8.385%)\n",
    "* Tud, h =   8, Max = 83.475% (8.052%)\n",
    "* Nov, h =  10, MAx = 81.608% (8.508%)\n",
    "* Zar, h = 145, MAx = 81.952% (8.353%)\n",
    "*\n",
    "```"
   ]
  },
  {
   "cell_type": "code",
   "execution_count": null,
   "metadata": {
    "scrolled": false
   },
   "outputs": [],
   "source": [
    "### PLot de correlacion entre features\n",
    "colormap = plt.cm.RdBu\n",
    "plt.figure(figsize=(40,40))\n",
    "plt.title(u'10 hours', y=1.05, size=16)\n",
    "\n",
    "mask = np.zeros_like(dfs.corr())\n",
    "mask[np.triu_indices_from(mask)] = True\n",
    "\n",
    "svm = sns.heatmap(dfs.corr(), mask=mask, linewidths=0.1,vmax=1.0, \n",
    "            square=True, cmap=colormap, linecolor='white', annot=True)       \n",
    "            \n",
    "\n"
   ]
  },
  {
   "cell_type": "code",
   "execution_count": null,
   "metadata": {},
   "outputs": [],
   "source": []
  },
  {
   "cell_type": "code",
   "execution_count": null,
   "metadata": {},
   "outputs": [],
   "source": []
  }
 ],
 "metadata": {
  "kernelspec": {
   "display_name": "Python 3",
   "language": "python",
   "name": "python3"
  },
  "language_info": {
   "codemirror_mode": {
    "name": "ipython",
    "version": 3
   },
   "file_extension": ".py",
   "mimetype": "text/x-python",
   "name": "python",
   "nbconvert_exporter": "python",
   "pygments_lexer": "ipython3",
   "version": "3.7.1"
  }
 },
 "nbformat": 4,
 "nbformat_minor": 2
}
