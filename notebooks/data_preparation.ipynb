{
 "cells": [
  {
   "cell_type": "markdown",
   "metadata": {},
   "source": [
    "# Data preparation/exploration for the Aguathon"
   ]
  },
  {
   "cell_type": "markdown",
   "metadata": {},
   "source": [
    "## Problem definition\n",
    "\n",
    "Find the best model that predict the level of the Evro river when cros Zaragoza.\n",
    "\n",
    "----"
   ]
  },
  {
   "cell_type": "markdown",
   "metadata": {},
   "source": [
    "## Index\n",
    "\n",
    "1. [Import modules and Data](#first-bullet)\n",
    "2. [Missing Values](#second-bullet)\n",
    "3. [Feature engineering](#third-bullet)\n",
    "    * Split the data in train and test set\n",
    "4. [Random forest regressor](#forth-bullet)\n",
    "    * Cross-validation"
   ]
  },
  {
   "cell_type": "markdown",
   "metadata": {},
   "source": [
    "## Import modules and Data <a class=\"anchor\" id=\"first-bullet\"></a>"
   ]
  },
  {
   "cell_type": "code",
   "execution_count": 1,
   "metadata": {
    "collapsed": false
   },
   "outputs": [
    {
     "name": "stdout",
     "output_type": "stream",
     "text": [
      "/Users/miloc/Documents/git-hub/Apsu\n"
     ]
    },
    {
     "data": {
      "text/html": [
       "<div>\n",
       "<table border=\"1\" class=\"dataframe\">\n",
       "  <thead>\n",
       "    <tr style=\"text-align: right;\">\n",
       "      <th></th>\n",
       "      <th>time</th>\n",
       "      <th>ALAGON_NR</th>\n",
       "      <th>GRISEN_NR</th>\n",
       "      <th>NOVILLAS_NR</th>\n",
       "      <th>TAUSTE_NR</th>\n",
       "      <th>TUDELA_NR</th>\n",
       "      <th>ZGZ_NR</th>\n",
       "      <th>RIESGO</th>\n",
       "      <th>pred_24h</th>\n",
       "      <th>pred_48h</th>\n",
       "      <th>pred_72h</th>\n",
       "    </tr>\n",
       "  </thead>\n",
       "  <tbody>\n",
       "    <tr>\n",
       "      <th>0</th>\n",
       "      <td>2008-01-01 00:00:00</td>\n",
       "      <td>0.8100</td>\n",
       "      <td>0.4375</td>\n",
       "      <td>1.6000</td>\n",
       "      <td>0.2675</td>\n",
       "      <td>0.7875</td>\n",
       "      <td>0.74</td>\n",
       "      <td>False</td>\n",
       "      <td>0.750</td>\n",
       "      <td>0.7400</td>\n",
       "      <td>0.76</td>\n",
       "    </tr>\n",
       "    <tr>\n",
       "      <th>1</th>\n",
       "      <td>2008-01-01 01:00:00</td>\n",
       "      <td>0.8100</td>\n",
       "      <td>0.4725</td>\n",
       "      <td>1.6075</td>\n",
       "      <td>0.2650</td>\n",
       "      <td>0.7900</td>\n",
       "      <td>0.74</td>\n",
       "      <td>False</td>\n",
       "      <td>0.745</td>\n",
       "      <td>0.7325</td>\n",
       "      <td>0.76</td>\n",
       "    </tr>\n",
       "    <tr>\n",
       "      <th>2</th>\n",
       "      <td>2008-01-01 02:00:00</td>\n",
       "      <td>0.8100</td>\n",
       "      <td>0.5425</td>\n",
       "      <td>1.6100</td>\n",
       "      <td>0.2675</td>\n",
       "      <td>0.7900</td>\n",
       "      <td>0.74</td>\n",
       "      <td>False</td>\n",
       "      <td>0.740</td>\n",
       "      <td>0.7300</td>\n",
       "      <td>0.76</td>\n",
       "    </tr>\n",
       "    <tr>\n",
       "      <th>3</th>\n",
       "      <td>2008-01-01 03:00:00</td>\n",
       "      <td>0.8075</td>\n",
       "      <td>0.5500</td>\n",
       "      <td>1.6100</td>\n",
       "      <td>0.2600</td>\n",
       "      <td>0.7900</td>\n",
       "      <td>0.74</td>\n",
       "      <td>False</td>\n",
       "      <td>0.740</td>\n",
       "      <td>0.7200</td>\n",
       "      <td>0.76</td>\n",
       "    </tr>\n",
       "    <tr>\n",
       "      <th>4</th>\n",
       "      <td>2008-01-01 04:00:00</td>\n",
       "      <td>0.8000</td>\n",
       "      <td>0.5525</td>\n",
       "      <td>1.6025</td>\n",
       "      <td>0.2650</td>\n",
       "      <td>0.7900</td>\n",
       "      <td>0.74</td>\n",
       "      <td>False</td>\n",
       "      <td>0.740</td>\n",
       "      <td>0.7200</td>\n",
       "      <td>0.76</td>\n",
       "    </tr>\n",
       "  </tbody>\n",
       "</table>\n",
       "</div>"
      ],
      "text/plain": [
       "                  time  ALAGON_NR  GRISEN_NR  NOVILLAS_NR  TAUSTE_NR  \\\n",
       "0  2008-01-01 00:00:00     0.8100     0.4375       1.6000     0.2675   \n",
       "1  2008-01-01 01:00:00     0.8100     0.4725       1.6075     0.2650   \n",
       "2  2008-01-01 02:00:00     0.8100     0.5425       1.6100     0.2675   \n",
       "3  2008-01-01 03:00:00     0.8075     0.5500       1.6100     0.2600   \n",
       "4  2008-01-01 04:00:00     0.8000     0.5525       1.6025     0.2650   \n",
       "\n",
       "   TUDELA_NR  ZGZ_NR RIESGO  pred_24h  pred_48h  pred_72h  \n",
       "0     0.7875    0.74  False     0.750    0.7400      0.76  \n",
       "1     0.7900    0.74  False     0.745    0.7325      0.76  \n",
       "2     0.7900    0.74  False     0.740    0.7300      0.76  \n",
       "3     0.7900    0.74  False     0.740    0.7200      0.76  \n",
       "4     0.7900    0.74  False     0.740    0.7200      0.76  "
      ]
     },
     "execution_count": 1,
     "metadata": {},
     "output_type": "execute_result"
    }
   ],
   "source": [
    "%load_ext autoreload\n",
    "%matplotlib inline\n",
    "%autoreload 1\n",
    "\n",
    "\n",
    "from __future__ import print_function\n",
    "\n",
    "# STD lib imports\n",
    "import os\n",
    "import sys\n",
    "\n",
    "# Third party libs\n",
    "import numpy as np\n",
    "import pandas as pd\n",
    "import matplotlib.pyplot as plt\n",
    "\n",
    "# sklear stuff\n",
    "from sklearn.ensemble import RandomForestRegressor\n",
    "from sklearn.model_selection import train_test_split\n",
    "\n",
    "# root path of the project\n",
    "PROJ_ROOT = os.path.join(os.pardir)\n",
    "\n",
    "# add the 'src' directory as one where we can import modules\n",
    "src_dir = os.path.join(PROJ_ROOT, 'src')\n",
    "sys.path.append(src_dir)\n",
    "\n",
    "# import my method from the source code\n",
    "%aimport data.make_dataset\n",
    "import data.make_dataset as md\n",
    "\n",
    "print(os.path.abspath(PROJ_ROOT))\n",
    "\n",
    "raw_file = 'datos.csv'\n",
    "path = '../ENTRADA/'\n",
    "\n",
    "raw_data = pd.read_csv(os.path.join(path, raw_file))\n",
    "raw_data.head()"
   ]
  },
  {
   "cell_type": "markdown",
   "metadata": {
    "collapsed": true
   },
   "source": [
    "## Missing Values <a class=\"anchor\" id=\"second-bullet\"></a>"
   ]
  },
  {
   "cell_type": "code",
   "execution_count": 2,
   "metadata": {
    "collapsed": false
   },
   "outputs": [
    {
     "data": {
      "text/plain": [
       "time               0\n",
       "ALAGON_NR      16968\n",
       "GRISEN_NR       8710\n",
       "NOVILLAS_NR     1468\n",
       "TAUSTE_NR        519\n",
       "TUDELA_NR        277\n",
       "ZGZ_NR             0\n",
       "RIESGO             0\n",
       "pred_24h           0\n",
       "pred_48h           0\n",
       "pred_72h           0\n",
       "dtype: int64"
      ]
     },
     "execution_count": 2,
     "metadata": {},
     "output_type": "execute_result"
    }
   ],
   "source": [
    "# List the columns that contain missing values\n",
    "raw_data.isnull().sum()"
   ]
  },
  {
   "cell_type": "code",
   "execution_count": 3,
   "metadata": {
    "collapsed": false
   },
   "outputs": [
    {
     "name": "stdout",
     "output_type": "stream",
     "text": [
      "r2_score = 0.996\n"
     ]
    }
   ],
   "source": [
    "X_imputation = raw_data[['TAUSTE_NR', 'TUDELA_NR', 'ZGZ_NR', 'ALAGON_NR']]\n",
    "X_imputation = X_imputation.dropna()\n",
    "\n",
    "Y_imputation = X_imputation['ALAGON_NR'].values\n",
    "X_imputation = X_imputation[['TAUSTE_NR', 'TUDELA_NR', 'ZGZ_NR']]\n",
    "\n",
    "x_train_imputation, x_test_imputation, \\\n",
    "y_train_imputation, y_test_imputation = train_test_split(X_imputation, \n",
    "                                                         Y_imputation, \n",
    "                                                         test_size = 0.3, \n",
    "                                                         random_state = 0)\n",
    "\n",
    "rf_imputation = RandomForestRegressor(max_depth=9, \n",
    "                                     random_state=0,\n",
    "                                     n_estimators=100)\n",
    "\n",
    "rf_imputation.fit(x_train_imputation, y_train_imputation)\n",
    "\n",
    "print('r2_score = %0.3f' % rf_imputation.score(x_test_imputation, y_test_imputation))"
   ]
  },
  {
   "cell_type": "code",
   "execution_count": 4,
   "metadata": {
    "collapsed": false
   },
   "outputs": [
    {
     "name": "stderr",
     "output_type": "stream",
     "text": [
      "/Users/miloc/anaconda/lib/python3.6/site-packages/pandas/core/indexing.py:141: SettingWithCopyWarning: \n",
      "A value is trying to be set on a copy of a slice from a DataFrame\n",
      "\n",
      "See the caveats in the documentation: http://pandas.pydata.org/pandas-docs/stable/indexing.html#indexing-view-versus-copy\n",
      "  self._setitem_with_indexer(indexer, value)\n"
     ]
    }
   ],
   "source": [
    "A = raw_data[['TAUSTE_NR', 'TUDELA_NR', 'ZGZ_NR']][raw_data.ALAGON_NR.isnull()]\n",
    "ix = A[A.isnull().sum(axis=1) == 0].index\n",
    "prediction = rf_imputation.predict(A[A.isnull().sum(axis=1) == 0])\n",
    "raw_data['ALAGON_NR'].iloc[ix] = prediction"
   ]
  },
  {
   "cell_type": "code",
   "execution_count": 5,
   "metadata": {
    "collapsed": false
   },
   "outputs": [
    {
     "data": {
      "text/plain": [
       "time              0\n",
       "ALAGON_NR         1\n",
       "GRISEN_NR      8710\n",
       "NOVILLAS_NR    1468\n",
       "TAUSTE_NR       519\n",
       "TUDELA_NR       277\n",
       "ZGZ_NR            0\n",
       "RIESGO            0\n",
       "pred_24h          0\n",
       "pred_48h          0\n",
       "pred_72h          0\n",
       "dtype: int64"
      ]
     },
     "execution_count": 5,
     "metadata": {},
     "output_type": "execute_result"
    }
   ],
   "source": [
    "raw_data.isnull().sum()"
   ]
  },
  {
   "cell_type": "code",
   "execution_count": 6,
   "metadata": {
    "collapsed": false
   },
   "outputs": [
    {
     "data": {
      "text/plain": [
       "time           False\n",
       "ALAGON_NR      False\n",
       "GRISEN_NR      False\n",
       "NOVILLAS_NR    False\n",
       "TAUSTE_NR      False\n",
       "TUDELA_NR      False\n",
       "ZGZ_NR         False\n",
       "RIESGO         False\n",
       "pred_24h       False\n",
       "pred_48h       False\n",
       "pred_72h       False\n",
       "dtype: bool"
      ]
     },
     "execution_count": 6,
     "metadata": {},
     "output_type": "execute_result"
    }
   ],
   "source": [
    "# Most simple thing, remove missing values\n",
    "data_s1 = raw_data.dropna()\n",
    "data_s1.isnull().any()"
   ]
  },
  {
   "cell_type": "markdown",
   "metadata": {
    "collapsed": true
   },
   "source": [
    "## Feature engineering <a class=\"anchor\" id=\"third-bullet\"></a>"
   ]
  },
  {
   "cell_type": "code",
   "execution_count": 7,
   "metadata": {
    "collapsed": false
   },
   "outputs": [],
   "source": [
    "i = 2\n",
    "\n",
    "# No feature engineering yet\n",
    "columns_x = ['ALAGON_NR', 'GRISEN_NR', 'NOVILLAS_NR', 'TAUSTE_NR', 'TUDELA_NR', 'ZGZ_NR', 'RIESGO']\n",
    "columns_y = ['pred_24h', 'pred_48h', 'pred_72h']\n",
    "X = data_s1[columns_x]\n",
    "Y = data_s1[columns_y[i]]"
   ]
  },
  {
   "cell_type": "code",
   "execution_count": 8,
   "metadata": {
    "collapsed": false
   },
   "outputs": [
    {
     "data": {
      "text/html": [
       "<div>\n",
       "<table border=\"1\" class=\"dataframe\">\n",
       "  <thead>\n",
       "    <tr style=\"text-align: right;\">\n",
       "      <th></th>\n",
       "      <th>ALAGON_NR</th>\n",
       "      <th>GRISEN_NR</th>\n",
       "      <th>NOVILLAS_NR</th>\n",
       "      <th>TAUSTE_NR</th>\n",
       "      <th>TUDELA_NR</th>\n",
       "      <th>ZGZ_NR</th>\n",
       "      <th>RIESGO</th>\n",
       "      <th>dAL</th>\n",
       "      <th>dGR</th>\n",
       "      <th>dNO</th>\n",
       "      <th>dTA</th>\n",
       "      <th>dTU</th>\n",
       "      <th>dZG</th>\n",
       "    </tr>\n",
       "  </thead>\n",
       "  <tbody>\n",
       "    <tr>\n",
       "      <th>0</th>\n",
       "      <td>0.8100</td>\n",
       "      <td>0.4375</td>\n",
       "      <td>1.6000</td>\n",
       "      <td>0.2675</td>\n",
       "      <td>0.7875</td>\n",
       "      <td>0.74</td>\n",
       "      <td>False</td>\n",
       "      <td>-0.1620</td>\n",
       "      <td>-0.0875</td>\n",
       "      <td>-0.3200</td>\n",
       "      <td>-0.0535</td>\n",
       "      <td>-0.1575</td>\n",
       "      <td>-0.148</td>\n",
       "    </tr>\n",
       "    <tr>\n",
       "      <th>1</th>\n",
       "      <td>0.8100</td>\n",
       "      <td>0.4725</td>\n",
       "      <td>1.6075</td>\n",
       "      <td>0.2650</td>\n",
       "      <td>0.7900</td>\n",
       "      <td>0.74</td>\n",
       "      <td>False</td>\n",
       "      <td>-0.1620</td>\n",
       "      <td>-0.0945</td>\n",
       "      <td>-0.3215</td>\n",
       "      <td>-0.0530</td>\n",
       "      <td>-0.1580</td>\n",
       "      <td>-0.148</td>\n",
       "    </tr>\n",
       "    <tr>\n",
       "      <th>2</th>\n",
       "      <td>0.8100</td>\n",
       "      <td>0.5425</td>\n",
       "      <td>1.6100</td>\n",
       "      <td>0.2675</td>\n",
       "      <td>0.7900</td>\n",
       "      <td>0.74</td>\n",
       "      <td>False</td>\n",
       "      <td>-0.1620</td>\n",
       "      <td>-0.1085</td>\n",
       "      <td>-0.3220</td>\n",
       "      <td>-0.0535</td>\n",
       "      <td>-0.1580</td>\n",
       "      <td>-0.148</td>\n",
       "    </tr>\n",
       "    <tr>\n",
       "      <th>3</th>\n",
       "      <td>0.8075</td>\n",
       "      <td>0.5500</td>\n",
       "      <td>1.6100</td>\n",
       "      <td>0.2600</td>\n",
       "      <td>0.7900</td>\n",
       "      <td>0.74</td>\n",
       "      <td>False</td>\n",
       "      <td>-0.1615</td>\n",
       "      <td>-0.1100</td>\n",
       "      <td>-0.3220</td>\n",
       "      <td>-0.0520</td>\n",
       "      <td>-0.1580</td>\n",
       "      <td>-0.148</td>\n",
       "    </tr>\n",
       "    <tr>\n",
       "      <th>4</th>\n",
       "      <td>0.8000</td>\n",
       "      <td>0.5525</td>\n",
       "      <td>1.6025</td>\n",
       "      <td>0.2650</td>\n",
       "      <td>0.7900</td>\n",
       "      <td>0.74</td>\n",
       "      <td>False</td>\n",
       "      <td>-0.1600</td>\n",
       "      <td>-0.1105</td>\n",
       "      <td>-0.3205</td>\n",
       "      <td>-0.0530</td>\n",
       "      <td>-0.1580</td>\n",
       "      <td>-0.148</td>\n",
       "    </tr>\n",
       "  </tbody>\n",
       "</table>\n",
       "</div>"
      ],
      "text/plain": [
       "   ALAGON_NR  GRISEN_NR  NOVILLAS_NR  TAUSTE_NR  TUDELA_NR  ZGZ_NR RIESGO  \\\n",
       "0     0.8100     0.4375       1.6000     0.2675     0.7875    0.74  False   \n",
       "1     0.8100     0.4725       1.6075     0.2650     0.7900    0.74  False   \n",
       "2     0.8100     0.5425       1.6100     0.2675     0.7900    0.74  False   \n",
       "3     0.8075     0.5500       1.6100     0.2600     0.7900    0.74  False   \n",
       "4     0.8000     0.5525       1.6025     0.2650     0.7900    0.74  False   \n",
       "\n",
       "      dAL     dGR     dNO     dTA     dTU    dZG  \n",
       "0 -0.1620 -0.0875 -0.3200 -0.0535 -0.1575 -0.148  \n",
       "1 -0.1620 -0.0945 -0.3215 -0.0530 -0.1580 -0.148  \n",
       "2 -0.1620 -0.1085 -0.3220 -0.0535 -0.1580 -0.148  \n",
       "3 -0.1615 -0.1100 -0.3220 -0.0520 -0.1580 -0.148  \n",
       "4 -0.1600 -0.1105 -0.3205 -0.0530 -0.1580 -0.148  "
      ]
     },
     "execution_count": 8,
     "metadata": {},
     "output_type": "execute_result"
    }
   ],
   "source": [
    "dAL = (X['ALAGON_NR'].shift(5).fillna(0).values - X['ALAGON_NR'].values)/5\n",
    "X = X.assign(dAL = dAL)\n",
    "\n",
    "dGR = (X['GRISEN_NR'].shift(5).fillna(0).values - X['GRISEN_NR'].values)/5\n",
    "X = X.assign(dGR = dGR)\n",
    "\n",
    "dNO = (X['NOVILLAS_NR'].shift(5).fillna(0).values - X['NOVILLAS_NR'].values)/5\n",
    "X = X.assign(dNO = dNO)\n",
    "\n",
    "dTA = (X['TAUSTE_NR'].shift(5).fillna(0).values - X['TAUSTE_NR'].values)/5\n",
    "X = X.assign(dTA = dTA)\n",
    "\n",
    "dTU = (X['TUDELA_NR'].shift(5).fillna(0).values - X['TUDELA_NR'].values)/5\n",
    "X = X.assign(dTU = dTU)\n",
    "\n",
    "dZG = (X['ZGZ_NR'].shift(5).fillna(0).values - X['ZGZ_NR'].values)/5\n",
    "X = X.assign(dZG = dZG)\n",
    "\n",
    "X.head()"
   ]
  },
  {
   "cell_type": "code",
   "execution_count": 9,
   "metadata": {
    "collapsed": false
   },
   "outputs": [],
   "source": [
    "X[columns_x] = X[columns_x].shift(5).fillna(0)\n",
    "X = X[5:]\n",
    "\n",
    "Y = Y.shift(5).fillna(0)[5:]"
   ]
  },
  {
   "cell_type": "markdown",
   "metadata": {},
   "source": [
    "### Split the data in train and test set"
   ]
  },
  {
   "cell_type": "code",
   "execution_count": 10,
   "metadata": {
    "collapsed": false
   },
   "outputs": [
    {
     "data": {
      "text/html": [
       "<div>\n",
       "<table border=\"1\" class=\"dataframe\">\n",
       "  <thead>\n",
       "    <tr style=\"text-align: right;\">\n",
       "      <th></th>\n",
       "      <th>ALAGON_NR</th>\n",
       "      <th>GRISEN_NR</th>\n",
       "      <th>NOVILLAS_NR</th>\n",
       "      <th>TAUSTE_NR</th>\n",
       "      <th>TUDELA_NR</th>\n",
       "      <th>ZGZ_NR</th>\n",
       "      <th>RIESGO</th>\n",
       "      <th>dAL</th>\n",
       "      <th>dGR</th>\n",
       "      <th>dNO</th>\n",
       "      <th>dTA</th>\n",
       "      <th>dTU</th>\n",
       "      <th>dZG</th>\n",
       "    </tr>\n",
       "  </thead>\n",
       "  <tbody>\n",
       "    <tr>\n",
       "      <th>8727</th>\n",
       "      <td>2.135000</td>\n",
       "      <td>0.6400</td>\n",
       "      <td>2.9750</td>\n",
       "      <td>0.665</td>\n",
       "      <td>1.2000</td>\n",
       "      <td>1.500</td>\n",
       "      <td>False</td>\n",
       "      <td>0.00350</td>\n",
       "      <td>0.0020</td>\n",
       "      <td>0.0165</td>\n",
       "      <td>-0.0035</td>\n",
       "      <td>0.0000</td>\n",
       "      <td>0.0020</td>\n",
       "    </tr>\n",
       "    <tr>\n",
       "      <th>28724</th>\n",
       "      <td>1.197500</td>\n",
       "      <td>0.5425</td>\n",
       "      <td>2.0575</td>\n",
       "      <td>0.470</td>\n",
       "      <td>0.9100</td>\n",
       "      <td>1.060</td>\n",
       "      <td>False</td>\n",
       "      <td>0.02300</td>\n",
       "      <td>0.0355</td>\n",
       "      <td>-0.0005</td>\n",
       "      <td>-0.0100</td>\n",
       "      <td>0.0015</td>\n",
       "      <td>0.0060</td>\n",
       "    </tr>\n",
       "    <tr>\n",
       "      <th>60127</th>\n",
       "      <td>1.130000</td>\n",
       "      <td>0.5300</td>\n",
       "      <td>2.0100</td>\n",
       "      <td>0.550</td>\n",
       "      <td>0.8500</td>\n",
       "      <td>1.045</td>\n",
       "      <td>False</td>\n",
       "      <td>0.00550</td>\n",
       "      <td>0.0000</td>\n",
       "      <td>-0.0015</td>\n",
       "      <td>0.0000</td>\n",
       "      <td>0.0000</td>\n",
       "      <td>0.0030</td>\n",
       "    </tr>\n",
       "    <tr>\n",
       "      <th>44113</th>\n",
       "      <td>0.942500</td>\n",
       "      <td>0.3300</td>\n",
       "      <td>1.8525</td>\n",
       "      <td>0.665</td>\n",
       "      <td>0.8775</td>\n",
       "      <td>0.900</td>\n",
       "      <td>False</td>\n",
       "      <td>-0.00550</td>\n",
       "      <td>0.0115</td>\n",
       "      <td>-0.0015</td>\n",
       "      <td>0.0005</td>\n",
       "      <td>0.0015</td>\n",
       "      <td>0.0005</td>\n",
       "    </tr>\n",
       "    <tr>\n",
       "      <th>90863</th>\n",
       "      <td>1.636875</td>\n",
       "      <td>0.1400</td>\n",
       "      <td>2.4400</td>\n",
       "      <td>0.750</td>\n",
       "      <td>1.0500</td>\n",
       "      <td>1.325</td>\n",
       "      <td>False</td>\n",
       "      <td>0.00093</td>\n",
       "      <td>0.0000</td>\n",
       "      <td>-0.0080</td>\n",
       "      <td>0.0060</td>\n",
       "      <td>0.0010</td>\n",
       "      <td>0.0030</td>\n",
       "    </tr>\n",
       "  </tbody>\n",
       "</table>\n",
       "</div>"
      ],
      "text/plain": [
       "       ALAGON_NR  GRISEN_NR  NOVILLAS_NR  TAUSTE_NR  TUDELA_NR  ZGZ_NR RIESGO  \\\n",
       "8727    2.135000     0.6400       2.9750      0.665     1.2000   1.500  False   \n",
       "28724   1.197500     0.5425       2.0575      0.470     0.9100   1.060  False   \n",
       "60127   1.130000     0.5300       2.0100      0.550     0.8500   1.045  False   \n",
       "44113   0.942500     0.3300       1.8525      0.665     0.8775   0.900  False   \n",
       "90863   1.636875     0.1400       2.4400      0.750     1.0500   1.325  False   \n",
       "\n",
       "           dAL     dGR     dNO     dTA     dTU     dZG  \n",
       "8727   0.00350  0.0020  0.0165 -0.0035  0.0000  0.0020  \n",
       "28724  0.02300  0.0355 -0.0005 -0.0100  0.0015  0.0060  \n",
       "60127  0.00550  0.0000 -0.0015  0.0000  0.0000  0.0030  \n",
       "44113 -0.00550  0.0115 -0.0015  0.0005  0.0015  0.0005  \n",
       "90863  0.00093  0.0000 -0.0080  0.0060  0.0010  0.0030  "
      ]
     },
     "execution_count": 10,
     "metadata": {},
     "output_type": "execute_result"
    }
   ],
   "source": [
    "x_train, x_test, y_train, y_test = train_test_split(X, Y, test_size = 0.3, random_state = 0)\n",
    "x_train.head()"
   ]
  },
  {
   "cell_type": "markdown",
   "metadata": {},
   "source": [
    "## Random forest regressor <a class=\"anchor\" id=\"forth-bullet\"></a>"
   ]
  },
  {
   "cell_type": "code",
   "execution_count": 11,
   "metadata": {
    "collapsed": false
   },
   "outputs": [
    {
     "data": {
      "text/plain": [
       "RandomForestRegressor(bootstrap=True, criterion='mse', max_depth=9,\n",
       "           max_features='auto', max_leaf_nodes=None,\n",
       "           min_impurity_split=1e-07, min_samples_leaf=1,\n",
       "           min_samples_split=2, min_weight_fraction_leaf=0.0,\n",
       "           n_estimators=100, n_jobs=1, oob_score=False, random_state=0,\n",
       "           verbose=0, warm_start=False)"
      ]
     },
     "execution_count": 11,
     "metadata": {},
     "output_type": "execute_result"
    }
   ],
   "source": [
    "rf_regressor = RandomForestRegressor(max_depth=9, \n",
    "                                     random_state=0,\n",
    "                                     n_estimators=100)\n",
    "\n",
    "rf_regressor.fit(x_train, y_train)"
   ]
  },
  {
   "cell_type": "code",
   "execution_count": 12,
   "metadata": {
    "collapsed": false
   },
   "outputs": [
    {
     "name": "stdout",
     "output_type": "stream",
     "text": [
      "r2_score = 0.912\n"
     ]
    }
   ],
   "source": [
    "print('r2_score = %0.3f' % rf_regressor.score(x_test, y_test))"
   ]
  },
  {
   "cell_type": "markdown",
   "metadata": {},
   "source": [
    "### Cross-validation"
   ]
  },
  {
   "cell_type": "code",
   "execution_count": 13,
   "metadata": {
    "collapsed": false
   },
   "outputs": [
    {
     "name": "stdout",
     "output_type": "stream",
     "text": [
      "Accuracy: 0.79 (+/- 0.16)\n"
     ]
    }
   ],
   "source": [
    "from sklearn.model_selection import cross_val_score\n",
    "\n",
    "scores = cross_val_score(rf_regressor, X, Y, scoring='r2', cv=5)\n",
    "\n",
    "print('Accuracy: %0.2f (+/- %0.2f)' % (scores.mean(), scores.std() * 2))"
   ]
  },
  {
   "cell_type": "code",
   "execution_count": null,
   "metadata": {
    "collapsed": true
   },
   "outputs": [],
   "source": []
  }
 ],
 "metadata": {
  "kernelspec": {
   "display_name": "Python 3",
   "language": "python",
   "name": "python3"
  },
  "language_info": {
   "codemirror_mode": {
    "name": "ipython",
    "version": 3
   },
   "file_extension": ".py",
   "mimetype": "text/x-python",
   "name": "python",
   "nbconvert_exporter": "python",
   "pygments_lexer": "ipython3",
   "version": "3.6.0"
  }
 },
 "nbformat": 4,
 "nbformat_minor": 2
}
